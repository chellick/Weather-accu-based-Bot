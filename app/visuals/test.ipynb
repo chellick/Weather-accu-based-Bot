{
 "cells": [
  {
   "cell_type": "code",
   "execution_count": 9,
   "metadata": {},
   "outputs": [],
   "source": [
    "import numpy as np\n",
    "import matplotlib.pyplot as plt\n",
    "import dash\n",
    "import pandas as pd\n",
    "import plotly.graph_objects as go\n",
    "from mapping import *\n",
    "import plotly.express as px"
   ]
  },
  {
   "cell_type": "code",
   "execution_count": 10,
   "metadata": {},
   "outputs": [
    {
     "data": {
      "text/html": [
       "<div>\n",
       "<style scoped>\n",
       "    .dataframe tbody tr th:only-of-type {\n",
       "        vertical-align: middle;\n",
       "    }\n",
       "\n",
       "    .dataframe tbody tr th {\n",
       "        vertical-align: top;\n",
       "    }\n",
       "\n",
       "    .dataframe thead th {\n",
       "        text-align: right;\n",
       "    }\n",
       "</style>\n",
       "<table border=\"1\" class=\"dataframe\">\n",
       "  <thead>\n",
       "    <tr style=\"text-align: right;\">\n",
       "      <th></th>\n",
       "      <th>Date</th>\n",
       "      <th>Location Key</th>\n",
       "      <th>Temperature (°C)</th>\n",
       "      <th>Apparent Temperature (°C)</th>\n",
       "      <th>Dew Point (°C)</th>\n",
       "      <th>Wind Speed (km/h)</th>\n",
       "      <th>Wind Direction</th>\n",
       "      <th>Humidity (%)</th>\n",
       "      <th>Precipitation Probability (%)</th>\n",
       "      <th>Visibility (km)</th>\n",
       "      <th>Pressure (mb)</th>\n",
       "      <th>UV Index</th>\n",
       "      <th>Weather Description</th>\n",
       "    </tr>\n",
       "  </thead>\n",
       "  <tbody>\n",
       "    <tr>\n",
       "      <th>0</th>\n",
       "      <td>2023-11-01</td>\n",
       "      <td>LOC001</td>\n",
       "      <td>11.978837</td>\n",
       "      <td>10.535711</td>\n",
       "      <td>6.258454</td>\n",
       "      <td>11.874019</td>\n",
       "      <td>NE</td>\n",
       "      <td>72.175651</td>\n",
       "      <td>91.351846</td>\n",
       "      <td>14.854547</td>\n",
       "      <td>987.921809</td>\n",
       "      <td>0</td>\n",
       "      <td>Sunny</td>\n",
       "    </tr>\n",
       "    <tr>\n",
       "      <th>1</th>\n",
       "      <td>2023-11-02</td>\n",
       "      <td>LOC001</td>\n",
       "      <td>13.537770</td>\n",
       "      <td>12.005577</td>\n",
       "      <td>8.095395</td>\n",
       "      <td>20.301963</td>\n",
       "      <td>SW</td>\n",
       "      <td>86.179091</td>\n",
       "      <td>21.000421</td>\n",
       "      <td>10.431550</td>\n",
       "      <td>1018.194762</td>\n",
       "      <td>0</td>\n",
       "      <td>Cloudy</td>\n",
       "    </tr>\n",
       "    <tr>\n",
       "      <th>2</th>\n",
       "      <td>2023-11-03</td>\n",
       "      <td>LOC001</td>\n",
       "      <td>15.957683</td>\n",
       "      <td>15.930830</td>\n",
       "      <td>8.525538</td>\n",
       "      <td>13.530779</td>\n",
       "      <td>NW</td>\n",
       "      <td>77.643095</td>\n",
       "      <td>57.787568</td>\n",
       "      <td>19.323939</td>\n",
       "      <td>1006.950006</td>\n",
       "      <td>4</td>\n",
       "      <td>Partly Cloudy</td>\n",
       "    </tr>\n",
       "    <tr>\n",
       "      <th>3</th>\n",
       "      <td>2023-11-04</td>\n",
       "      <td>LOC001</td>\n",
       "      <td>11.521143</td>\n",
       "      <td>15.600521</td>\n",
       "      <td>7.787867</td>\n",
       "      <td>26.617334</td>\n",
       "      <td>N</td>\n",
       "      <td>81.718044</td>\n",
       "      <td>72.053692</td>\n",
       "      <td>11.889900</td>\n",
       "      <td>1011.258055</td>\n",
       "      <td>6</td>\n",
       "      <td>Showers</td>\n",
       "    </tr>\n",
       "    <tr>\n",
       "      <th>4</th>\n",
       "      <td>2023-11-05</td>\n",
       "      <td>LOC001</td>\n",
       "      <td>19.858637</td>\n",
       "      <td>16.404615</td>\n",
       "      <td>6.218707</td>\n",
       "      <td>21.462670</td>\n",
       "      <td>N</td>\n",
       "      <td>69.230573</td>\n",
       "      <td>20.618145</td>\n",
       "      <td>12.290114</td>\n",
       "      <td>981.199599</td>\n",
       "      <td>1</td>\n",
       "      <td>Partly Cloudy</td>\n",
       "    </tr>\n",
       "    <tr>\n",
       "      <th>5</th>\n",
       "      <td>2023-11-01</td>\n",
       "      <td>LOC002</td>\n",
       "      <td>14.237732</td>\n",
       "      <td>13.925318</td>\n",
       "      <td>6.366248</td>\n",
       "      <td>17.580789</td>\n",
       "      <td>S</td>\n",
       "      <td>61.071524</td>\n",
       "      <td>92.418419</td>\n",
       "      <td>10.324283</td>\n",
       "      <td>1011.099615</td>\n",
       "      <td>8</td>\n",
       "      <td>Cloudy</td>\n",
       "    </tr>\n",
       "    <tr>\n",
       "      <th>6</th>\n",
       "      <td>2023-11-02</td>\n",
       "      <td>LOC002</td>\n",
       "      <td>13.530220</td>\n",
       "      <td>13.114741</td>\n",
       "      <td>6.645378</td>\n",
       "      <td>23.604601</td>\n",
       "      <td>SW</td>\n",
       "      <td>81.670118</td>\n",
       "      <td>46.858807</td>\n",
       "      <td>15.859004</td>\n",
       "      <td>1008.272739</td>\n",
       "      <td>6</td>\n",
       "      <td>Rain</td>\n",
       "    </tr>\n",
       "    <tr>\n",
       "      <th>7</th>\n",
       "      <td>2023-11-03</td>\n",
       "      <td>LOC002</td>\n",
       "      <td>19.706637</td>\n",
       "      <td>16.207016</td>\n",
       "      <td>8.471961</td>\n",
       "      <td>12.448503</td>\n",
       "      <td>S</td>\n",
       "      <td>79.265336</td>\n",
       "      <td>22.353104</td>\n",
       "      <td>14.588580</td>\n",
       "      <td>992.102702</td>\n",
       "      <td>4</td>\n",
       "      <td>Cloudy</td>\n",
       "    </tr>\n",
       "    <tr>\n",
       "      <th>8</th>\n",
       "      <td>2023-11-04</td>\n",
       "      <td>LOC002</td>\n",
       "      <td>17.925190</td>\n",
       "      <td>13.406949</td>\n",
       "      <td>5.317492</td>\n",
       "      <td>24.865244</td>\n",
       "      <td>SW</td>\n",
       "      <td>60.738064</td>\n",
       "      <td>81.413816</td>\n",
       "      <td>10.070892</td>\n",
       "      <td>988.937710</td>\n",
       "      <td>9</td>\n",
       "      <td>Partly Cloudy</td>\n",
       "    </tr>\n",
       "    <tr>\n",
       "      <th>9</th>\n",
       "      <td>2023-11-05</td>\n",
       "      <td>LOC002</td>\n",
       "      <td>12.333657</td>\n",
       "      <td>10.148600</td>\n",
       "      <td>8.863598</td>\n",
       "      <td>27.904970</td>\n",
       "      <td>S</td>\n",
       "      <td>64.879022</td>\n",
       "      <td>25.623251</td>\n",
       "      <td>18.053465</td>\n",
       "      <td>996.380494</td>\n",
       "      <td>2</td>\n",
       "      <td>Showers</td>\n",
       "    </tr>\n",
       "    <tr>\n",
       "      <th>10</th>\n",
       "      <td>2023-11-01</td>\n",
       "      <td>LOC003</td>\n",
       "      <td>14.310019</td>\n",
       "      <td>18.564221</td>\n",
       "      <td>6.326229</td>\n",
       "      <td>24.522775</td>\n",
       "      <td>NW</td>\n",
       "      <td>68.747483</td>\n",
       "      <td>45.635710</td>\n",
       "      <td>16.332596</td>\n",
       "      <td>989.235663</td>\n",
       "      <td>7</td>\n",
       "      <td>Rain</td>\n",
       "    </tr>\n",
       "    <tr>\n",
       "      <th>11</th>\n",
       "      <td>2023-11-02</td>\n",
       "      <td>LOC003</td>\n",
       "      <td>11.853645</td>\n",
       "      <td>10.321403</td>\n",
       "      <td>7.742118</td>\n",
       "      <td>10.073568</td>\n",
       "      <td>NW</td>\n",
       "      <td>81.343281</td>\n",
       "      <td>95.867384</td>\n",
       "      <td>10.568173</td>\n",
       "      <td>990.847917</td>\n",
       "      <td>6</td>\n",
       "      <td>Partly Cloudy</td>\n",
       "    </tr>\n",
       "    <tr>\n",
       "      <th>12</th>\n",
       "      <td>2023-11-03</td>\n",
       "      <td>LOC003</td>\n",
       "      <td>14.764813</td>\n",
       "      <td>17.857719</td>\n",
       "      <td>6.728037</td>\n",
       "      <td>11.542015</td>\n",
       "      <td>SW</td>\n",
       "      <td>82.790175</td>\n",
       "      <td>51.476512</td>\n",
       "      <td>19.360594</td>\n",
       "      <td>1018.572918</td>\n",
       "      <td>9</td>\n",
       "      <td>Sunny</td>\n",
       "    </tr>\n",
       "    <tr>\n",
       "      <th>13</th>\n",
       "      <td>2023-11-04</td>\n",
       "      <td>LOC003</td>\n",
       "      <td>11.338587</td>\n",
       "      <td>10.351504</td>\n",
       "      <td>9.119082</td>\n",
       "      <td>12.868335</td>\n",
       "      <td>SW</td>\n",
       "      <td>82.522312</td>\n",
       "      <td>44.640032</td>\n",
       "      <td>14.803340</td>\n",
       "      <td>1012.132910</td>\n",
       "      <td>3</td>\n",
       "      <td>Showers</td>\n",
       "    </tr>\n",
       "    <tr>\n",
       "      <th>14</th>\n",
       "      <td>2023-11-05</td>\n",
       "      <td>LOC003</td>\n",
       "      <td>17.158489</td>\n",
       "      <td>17.574000</td>\n",
       "      <td>7.045716</td>\n",
       "      <td>29.966662</td>\n",
       "      <td>SE</td>\n",
       "      <td>82.670541</td>\n",
       "      <td>1.047540</td>\n",
       "      <td>14.982645</td>\n",
       "      <td>984.305175</td>\n",
       "      <td>2</td>\n",
       "      <td>Rain</td>\n",
       "    </tr>\n",
       "  </tbody>\n",
       "</table>\n",
       "</div>"
      ],
      "text/plain": [
       "          Date Location Key  Temperature (°C)  Apparent Temperature (°C)  \\\n",
       "0   2023-11-01       LOC001         11.978837                  10.535711   \n",
       "1   2023-11-02       LOC001         13.537770                  12.005577   \n",
       "2   2023-11-03       LOC001         15.957683                  15.930830   \n",
       "3   2023-11-04       LOC001         11.521143                  15.600521   \n",
       "4   2023-11-05       LOC001         19.858637                  16.404615   \n",
       "5   2023-11-01       LOC002         14.237732                  13.925318   \n",
       "6   2023-11-02       LOC002         13.530220                  13.114741   \n",
       "7   2023-11-03       LOC002         19.706637                  16.207016   \n",
       "8   2023-11-04       LOC002         17.925190                  13.406949   \n",
       "9   2023-11-05       LOC002         12.333657                  10.148600   \n",
       "10  2023-11-01       LOC003         14.310019                  18.564221   \n",
       "11  2023-11-02       LOC003         11.853645                  10.321403   \n",
       "12  2023-11-03       LOC003         14.764813                  17.857719   \n",
       "13  2023-11-04       LOC003         11.338587                  10.351504   \n",
       "14  2023-11-05       LOC003         17.158489                  17.574000   \n",
       "\n",
       "    Dew Point (°C)  Wind Speed (km/h) Wind Direction  Humidity (%)  \\\n",
       "0         6.258454          11.874019             NE     72.175651   \n",
       "1         8.095395          20.301963             SW     86.179091   \n",
       "2         8.525538          13.530779             NW     77.643095   \n",
       "3         7.787867          26.617334              N     81.718044   \n",
       "4         6.218707          21.462670              N     69.230573   \n",
       "5         6.366248          17.580789              S     61.071524   \n",
       "6         6.645378          23.604601             SW     81.670118   \n",
       "7         8.471961          12.448503              S     79.265336   \n",
       "8         5.317492          24.865244             SW     60.738064   \n",
       "9         8.863598          27.904970              S     64.879022   \n",
       "10        6.326229          24.522775             NW     68.747483   \n",
       "11        7.742118          10.073568             NW     81.343281   \n",
       "12        6.728037          11.542015             SW     82.790175   \n",
       "13        9.119082          12.868335             SW     82.522312   \n",
       "14        7.045716          29.966662             SE     82.670541   \n",
       "\n",
       "    Precipitation Probability (%)  Visibility (km)  Pressure (mb)  UV Index  \\\n",
       "0                       91.351846        14.854547     987.921809         0   \n",
       "1                       21.000421        10.431550    1018.194762         0   \n",
       "2                       57.787568        19.323939    1006.950006         4   \n",
       "3                       72.053692        11.889900    1011.258055         6   \n",
       "4                       20.618145        12.290114     981.199599         1   \n",
       "5                       92.418419        10.324283    1011.099615         8   \n",
       "6                       46.858807        15.859004    1008.272739         6   \n",
       "7                       22.353104        14.588580     992.102702         4   \n",
       "8                       81.413816        10.070892     988.937710         9   \n",
       "9                       25.623251        18.053465     996.380494         2   \n",
       "10                      45.635710        16.332596     989.235663         7   \n",
       "11                      95.867384        10.568173     990.847917         6   \n",
       "12                      51.476512        19.360594    1018.572918         9   \n",
       "13                      44.640032        14.803340    1012.132910         3   \n",
       "14                       1.047540        14.982645     984.305175         2   \n",
       "\n",
       "   Weather Description  \n",
       "0                Sunny  \n",
       "1               Cloudy  \n",
       "2        Partly Cloudy  \n",
       "3              Showers  \n",
       "4        Partly Cloudy  \n",
       "5               Cloudy  \n",
       "6                 Rain  \n",
       "7               Cloudy  \n",
       "8        Partly Cloudy  \n",
       "9              Showers  \n",
       "10                Rain  \n",
       "11       Partly Cloudy  \n",
       "12               Sunny  \n",
       "13             Showers  \n",
       "14                Rain  "
      ]
     },
     "execution_count": 10,
     "metadata": {},
     "output_type": "execute_result"
    }
   ],
   "source": [
    "\n",
    "\n",
    "location_keys = [\"LOC001\", \"LOC002\", \"LOC003\"]\n",
    "\n",
    "data = []\n",
    "for loc_key in location_keys:\n",
    "    for i in range(5):\n",
    "        day_data = {\n",
    "            \"Date\": f\"2023-11-{i + 1:02d}\", \n",
    "            \"Location Key\": loc_key,\n",
    "            \"Temperature (°C)\": np.random.uniform(10, 20),  \n",
    "            \"Apparent Temperature (°C)\": np.random.uniform(9, 19),  \n",
    "            \"Dew Point (°C)\": np.random.uniform(5, 10), \n",
    "            \"Wind Speed (km/h)\": np.random.uniform(10, 30),\n",
    "            \"Wind Direction\": np.random.choice([\"N\", \"NE\", \"E\", \"SE\", \"S\", \"SW\", \"W\", \"NW\"]),\n",
    "            \"Humidity (%)\": np.random.uniform(60, 90),  \n",
    "            \"Precipitation Probability (%)\": np.random.uniform(0, 100),  \n",
    "            \"Visibility (km)\": np.random.uniform(10, 20), \n",
    "            \"Pressure (mb)\": np.random.uniform(980, 1020), \n",
    "            \"UV Index\": np.random.randint(0, 10), \n",
    "            \"Weather Description\": np.random.choice([\"Sunny\", \"Cloudy\", \"Partly Cloudy\", \"Rain\", \"Showers\"]),\n",
    "        }\n",
    "        data.append(day_data)\n",
    "\n",
    "df = pd.DataFrame(data)\n",
    "df\n"
   ]
  },
  {
   "cell_type": "code",
   "execution_count": null,
   "metadata": {},
   "outputs": [
    {
     "data": {
      "application/vnd.plotly.v1+json": {
       "config": {
        "plotlyServerURL": "https://plot.ly"
       },
       "data": [
        {
         "hovertemplate": "Location Key=LOC001<br>Дата=%{x}<br>Температура (°C)=%{y}<extra></extra>",
         "legendgroup": "LOC001",
         "line": {
          "color": "#636efa",
          "dash": "solid"
         },
         "marker": {
          "symbol": "circle"
         },
         "mode": "lines+markers",
         "name": "LOC001",
         "orientation": "v",
         "showlegend": true,
         "type": "scatter",
         "x": [
          "2023-11-01",
          "2023-11-02",
          "2023-11-03",
          "2023-11-04",
          "2023-11-05"
         ],
         "xaxis": "x",
         "y": [
          11.978836794808613,
          13.53776980422363,
          15.957683274292709,
          11.521142936161219,
          19.8586367826612
         ],
         "yaxis": "y"
        },
        {
         "hovertemplate": "Location Key=LOC002<br>Дата=%{x}<br>Температура (°C)=%{y}<extra></extra>",
         "legendgroup": "LOC002",
         "line": {
          "color": "#EF553B",
          "dash": "solid"
         },
         "marker": {
          "symbol": "circle"
         },
         "mode": "lines+markers",
         "name": "LOC002",
         "orientation": "v",
         "showlegend": true,
         "type": "scatter",
         "x": [
          "2023-11-01",
          "2023-11-02",
          "2023-11-03",
          "2023-11-04",
          "2023-11-05"
         ],
         "xaxis": "x",
         "y": [
          14.237731580021132,
          13.530220379733105,
          19.706637352056298,
          17.925189564168875,
          12.333656991569253
         ],
         "yaxis": "y"
        },
        {
         "hovertemplate": "Location Key=LOC003<br>Дата=%{x}<br>Температура (°C)=%{y}<extra></extra>",
         "legendgroup": "LOC003",
         "line": {
          "color": "#00cc96",
          "dash": "solid"
         },
         "marker": {
          "symbol": "circle"
         },
         "mode": "lines+markers",
         "name": "LOC003",
         "orientation": "v",
         "showlegend": true,
         "type": "scatter",
         "x": [
          "2023-11-01",
          "2023-11-02",
          "2023-11-03",
          "2023-11-04",
          "2023-11-05"
         ],
         "xaxis": "x",
         "y": [
          14.310018514953047,
          11.85364469304193,
          14.764812686997281,
          11.338586587128134,
          17.158489272896876
         ],
         "yaxis": "y"
        }
       ],
       "layout": {
        "hovermode": "x unified",
        "legend": {
         "title": {
          "text": "Локация"
         },
         "tracegroupgap": 0
        },
        "template": {
         "data": {
          "bar": [
           {
            "error_x": {
             "color": "#2a3f5f"
            },
            "error_y": {
             "color": "#2a3f5f"
            },
            "marker": {
             "line": {
              "color": "#E5ECF6",
              "width": 0.5
             },
             "pattern": {
              "fillmode": "overlay",
              "size": 10,
              "solidity": 0.2
             }
            },
            "type": "bar"
           }
          ],
          "barpolar": [
           {
            "marker": {
             "line": {
              "color": "#E5ECF6",
              "width": 0.5
             },
             "pattern": {
              "fillmode": "overlay",
              "size": 10,
              "solidity": 0.2
             }
            },
            "type": "barpolar"
           }
          ],
          "carpet": [
           {
            "aaxis": {
             "endlinecolor": "#2a3f5f",
             "gridcolor": "white",
             "linecolor": "white",
             "minorgridcolor": "white",
             "startlinecolor": "#2a3f5f"
            },
            "baxis": {
             "endlinecolor": "#2a3f5f",
             "gridcolor": "white",
             "linecolor": "white",
             "minorgridcolor": "white",
             "startlinecolor": "#2a3f5f"
            },
            "type": "carpet"
           }
          ],
          "choropleth": [
           {
            "colorbar": {
             "outlinewidth": 0,
             "ticks": ""
            },
            "type": "choropleth"
           }
          ],
          "contour": [
           {
            "colorbar": {
             "outlinewidth": 0,
             "ticks": ""
            },
            "colorscale": [
             [
              0,
              "#0d0887"
             ],
             [
              0.1111111111111111,
              "#46039f"
             ],
             [
              0.2222222222222222,
              "#7201a8"
             ],
             [
              0.3333333333333333,
              "#9c179e"
             ],
             [
              0.4444444444444444,
              "#bd3786"
             ],
             [
              0.5555555555555556,
              "#d8576b"
             ],
             [
              0.6666666666666666,
              "#ed7953"
             ],
             [
              0.7777777777777778,
              "#fb9f3a"
             ],
             [
              0.8888888888888888,
              "#fdca26"
             ],
             [
              1,
              "#f0f921"
             ]
            ],
            "type": "contour"
           }
          ],
          "contourcarpet": [
           {
            "colorbar": {
             "outlinewidth": 0,
             "ticks": ""
            },
            "type": "contourcarpet"
           }
          ],
          "heatmap": [
           {
            "colorbar": {
             "outlinewidth": 0,
             "ticks": ""
            },
            "colorscale": [
             [
              0,
              "#0d0887"
             ],
             [
              0.1111111111111111,
              "#46039f"
             ],
             [
              0.2222222222222222,
              "#7201a8"
             ],
             [
              0.3333333333333333,
              "#9c179e"
             ],
             [
              0.4444444444444444,
              "#bd3786"
             ],
             [
              0.5555555555555556,
              "#d8576b"
             ],
             [
              0.6666666666666666,
              "#ed7953"
             ],
             [
              0.7777777777777778,
              "#fb9f3a"
             ],
             [
              0.8888888888888888,
              "#fdca26"
             ],
             [
              1,
              "#f0f921"
             ]
            ],
            "type": "heatmap"
           }
          ],
          "heatmapgl": [
           {
            "colorbar": {
             "outlinewidth": 0,
             "ticks": ""
            },
            "colorscale": [
             [
              0,
              "#0d0887"
             ],
             [
              0.1111111111111111,
              "#46039f"
             ],
             [
              0.2222222222222222,
              "#7201a8"
             ],
             [
              0.3333333333333333,
              "#9c179e"
             ],
             [
              0.4444444444444444,
              "#bd3786"
             ],
             [
              0.5555555555555556,
              "#d8576b"
             ],
             [
              0.6666666666666666,
              "#ed7953"
             ],
             [
              0.7777777777777778,
              "#fb9f3a"
             ],
             [
              0.8888888888888888,
              "#fdca26"
             ],
             [
              1,
              "#f0f921"
             ]
            ],
            "type": "heatmapgl"
           }
          ],
          "histogram": [
           {
            "marker": {
             "pattern": {
              "fillmode": "overlay",
              "size": 10,
              "solidity": 0.2
             }
            },
            "type": "histogram"
           }
          ],
          "histogram2d": [
           {
            "colorbar": {
             "outlinewidth": 0,
             "ticks": ""
            },
            "colorscale": [
             [
              0,
              "#0d0887"
             ],
             [
              0.1111111111111111,
              "#46039f"
             ],
             [
              0.2222222222222222,
              "#7201a8"
             ],
             [
              0.3333333333333333,
              "#9c179e"
             ],
             [
              0.4444444444444444,
              "#bd3786"
             ],
             [
              0.5555555555555556,
              "#d8576b"
             ],
             [
              0.6666666666666666,
              "#ed7953"
             ],
             [
              0.7777777777777778,
              "#fb9f3a"
             ],
             [
              0.8888888888888888,
              "#fdca26"
             ],
             [
              1,
              "#f0f921"
             ]
            ],
            "type": "histogram2d"
           }
          ],
          "histogram2dcontour": [
           {
            "colorbar": {
             "outlinewidth": 0,
             "ticks": ""
            },
            "colorscale": [
             [
              0,
              "#0d0887"
             ],
             [
              0.1111111111111111,
              "#46039f"
             ],
             [
              0.2222222222222222,
              "#7201a8"
             ],
             [
              0.3333333333333333,
              "#9c179e"
             ],
             [
              0.4444444444444444,
              "#bd3786"
             ],
             [
              0.5555555555555556,
              "#d8576b"
             ],
             [
              0.6666666666666666,
              "#ed7953"
             ],
             [
              0.7777777777777778,
              "#fb9f3a"
             ],
             [
              0.8888888888888888,
              "#fdca26"
             ],
             [
              1,
              "#f0f921"
             ]
            ],
            "type": "histogram2dcontour"
           }
          ],
          "mesh3d": [
           {
            "colorbar": {
             "outlinewidth": 0,
             "ticks": ""
            },
            "type": "mesh3d"
           }
          ],
          "parcoords": [
           {
            "line": {
             "colorbar": {
              "outlinewidth": 0,
              "ticks": ""
             }
            },
            "type": "parcoords"
           }
          ],
          "pie": [
           {
            "automargin": true,
            "type": "pie"
           }
          ],
          "scatter": [
           {
            "fillpattern": {
             "fillmode": "overlay",
             "size": 10,
             "solidity": 0.2
            },
            "type": "scatter"
           }
          ],
          "scatter3d": [
           {
            "line": {
             "colorbar": {
              "outlinewidth": 0,
              "ticks": ""
             }
            },
            "marker": {
             "colorbar": {
              "outlinewidth": 0,
              "ticks": ""
             }
            },
            "type": "scatter3d"
           }
          ],
          "scattercarpet": [
           {
            "marker": {
             "colorbar": {
              "outlinewidth": 0,
              "ticks": ""
             }
            },
            "type": "scattercarpet"
           }
          ],
          "scattergeo": [
           {
            "marker": {
             "colorbar": {
              "outlinewidth": 0,
              "ticks": ""
             }
            },
            "type": "scattergeo"
           }
          ],
          "scattergl": [
           {
            "marker": {
             "colorbar": {
              "outlinewidth": 0,
              "ticks": ""
             }
            },
            "type": "scattergl"
           }
          ],
          "scattermapbox": [
           {
            "marker": {
             "colorbar": {
              "outlinewidth": 0,
              "ticks": ""
             }
            },
            "type": "scattermapbox"
           }
          ],
          "scatterpolar": [
           {
            "marker": {
             "colorbar": {
              "outlinewidth": 0,
              "ticks": ""
             }
            },
            "type": "scatterpolar"
           }
          ],
          "scatterpolargl": [
           {
            "marker": {
             "colorbar": {
              "outlinewidth": 0,
              "ticks": ""
             }
            },
            "type": "scatterpolargl"
           }
          ],
          "scatterternary": [
           {
            "marker": {
             "colorbar": {
              "outlinewidth": 0,
              "ticks": ""
             }
            },
            "type": "scatterternary"
           }
          ],
          "surface": [
           {
            "colorbar": {
             "outlinewidth": 0,
             "ticks": ""
            },
            "colorscale": [
             [
              0,
              "#0d0887"
             ],
             [
              0.1111111111111111,
              "#46039f"
             ],
             [
              0.2222222222222222,
              "#7201a8"
             ],
             [
              0.3333333333333333,
              "#9c179e"
             ],
             [
              0.4444444444444444,
              "#bd3786"
             ],
             [
              0.5555555555555556,
              "#d8576b"
             ],
             [
              0.6666666666666666,
              "#ed7953"
             ],
             [
              0.7777777777777778,
              "#fb9f3a"
             ],
             [
              0.8888888888888888,
              "#fdca26"
             ],
             [
              1,
              "#f0f921"
             ]
            ],
            "type": "surface"
           }
          ],
          "table": [
           {
            "cells": {
             "fill": {
              "color": "#EBF0F8"
             },
             "line": {
              "color": "white"
             }
            },
            "header": {
             "fill": {
              "color": "#C8D4E3"
             },
             "line": {
              "color": "white"
             }
            },
            "type": "table"
           }
          ]
         },
         "layout": {
          "annotationdefaults": {
           "arrowcolor": "#2a3f5f",
           "arrowhead": 0,
           "arrowwidth": 1
          },
          "autotypenumbers": "strict",
          "coloraxis": {
           "colorbar": {
            "outlinewidth": 0,
            "ticks": ""
           }
          },
          "colorscale": {
           "diverging": [
            [
             0,
             "#8e0152"
            ],
            [
             0.1,
             "#c51b7d"
            ],
            [
             0.2,
             "#de77ae"
            ],
            [
             0.3,
             "#f1b6da"
            ],
            [
             0.4,
             "#fde0ef"
            ],
            [
             0.5,
             "#f7f7f7"
            ],
            [
             0.6,
             "#e6f5d0"
            ],
            [
             0.7,
             "#b8e186"
            ],
            [
             0.8,
             "#7fbc41"
            ],
            [
             0.9,
             "#4d9221"
            ],
            [
             1,
             "#276419"
            ]
           ],
           "sequential": [
            [
             0,
             "#0d0887"
            ],
            [
             0.1111111111111111,
             "#46039f"
            ],
            [
             0.2222222222222222,
             "#7201a8"
            ],
            [
             0.3333333333333333,
             "#9c179e"
            ],
            [
             0.4444444444444444,
             "#bd3786"
            ],
            [
             0.5555555555555556,
             "#d8576b"
            ],
            [
             0.6666666666666666,
             "#ed7953"
            ],
            [
             0.7777777777777778,
             "#fb9f3a"
            ],
            [
             0.8888888888888888,
             "#fdca26"
            ],
            [
             1,
             "#f0f921"
            ]
           ],
           "sequentialminus": [
            [
             0,
             "#0d0887"
            ],
            [
             0.1111111111111111,
             "#46039f"
            ],
            [
             0.2222222222222222,
             "#7201a8"
            ],
            [
             0.3333333333333333,
             "#9c179e"
            ],
            [
             0.4444444444444444,
             "#bd3786"
            ],
            [
             0.5555555555555556,
             "#d8576b"
            ],
            [
             0.6666666666666666,
             "#ed7953"
            ],
            [
             0.7777777777777778,
             "#fb9f3a"
            ],
            [
             0.8888888888888888,
             "#fdca26"
            ],
            [
             1,
             "#f0f921"
            ]
           ]
          },
          "colorway": [
           "#636efa",
           "#EF553B",
           "#00cc96",
           "#ab63fa",
           "#FFA15A",
           "#19d3f3",
           "#FF6692",
           "#B6E880",
           "#FF97FF",
           "#FECB52"
          ],
          "font": {
           "color": "#2a3f5f"
          },
          "geo": {
           "bgcolor": "white",
           "lakecolor": "white",
           "landcolor": "#E5ECF6",
           "showlakes": true,
           "showland": true,
           "subunitcolor": "white"
          },
          "hoverlabel": {
           "align": "left"
          },
          "hovermode": "closest",
          "mapbox": {
           "style": "light"
          },
          "paper_bgcolor": "white",
          "plot_bgcolor": "#E5ECF6",
          "polar": {
           "angularaxis": {
            "gridcolor": "white",
            "linecolor": "white",
            "ticks": ""
           },
           "bgcolor": "#E5ECF6",
           "radialaxis": {
            "gridcolor": "white",
            "linecolor": "white",
            "ticks": ""
           }
          },
          "scene": {
           "xaxis": {
            "backgroundcolor": "#E5ECF6",
            "gridcolor": "white",
            "gridwidth": 2,
            "linecolor": "white",
            "showbackground": true,
            "ticks": "",
            "zerolinecolor": "white"
           },
           "yaxis": {
            "backgroundcolor": "#E5ECF6",
            "gridcolor": "white",
            "gridwidth": 2,
            "linecolor": "white",
            "showbackground": true,
            "ticks": "",
            "zerolinecolor": "white"
           },
           "zaxis": {
            "backgroundcolor": "#E5ECF6",
            "gridcolor": "white",
            "gridwidth": 2,
            "linecolor": "white",
            "showbackground": true,
            "ticks": "",
            "zerolinecolor": "white"
           }
          },
          "shapedefaults": {
           "line": {
            "color": "#2a3f5f"
           }
          },
          "ternary": {
           "aaxis": {
            "gridcolor": "white",
            "linecolor": "white",
            "ticks": ""
           },
           "baxis": {
            "gridcolor": "white",
            "linecolor": "white",
            "ticks": ""
           },
           "bgcolor": "#E5ECF6",
           "caxis": {
            "gridcolor": "white",
            "linecolor": "white",
            "ticks": ""
           }
          },
          "title": {
           "x": 0.05
          },
          "xaxis": {
           "automargin": true,
           "gridcolor": "white",
           "linecolor": "white",
           "ticks": "",
           "title": {
            "standoff": 15
           },
           "zerolinecolor": "white",
           "zerolinewidth": 2
          },
          "yaxis": {
           "automargin": true,
           "gridcolor": "white",
           "linecolor": "white",
           "ticks": "",
           "title": {
            "standoff": 15
           },
           "zerolinecolor": "white",
           "zerolinewidth": 2
          }
         }
        },
        "title": {
         "text": "Прогноз погоды по температуре для разных локаций"
        },
        "xaxis": {
         "anchor": "y",
         "domain": [
          0,
          1
         ],
         "title": {
          "text": "Дата"
         }
        },
        "yaxis": {
         "anchor": "x",
         "domain": [
          0,
          1
         ],
         "title": {
          "text": "Температура (°C)"
         }
        }
       }
      }
     },
     "metadata": {},
     "output_type": "display_data"
    }
   ],
   "source": [
    "fig = px.line(df, x=\"Date\", y=\"Temperature (°C)\", color=\"Location Key\", \n",
    "              title=\"Прогноз погоды по температуре для разных локаций\",\n",
    "              labels={\"Temperature (°C)\": \"Температура (°C)\", \"Date\": \"Дата\"},\n",
    "              markers=True)\n",
    "\n",
    "# Настройка дизайна и показ графика\n",
    "fig.update_layout(\n",
    "    xaxis_title=\"Дата\",\n",
    "    yaxis_title=\"Температура (°C)\",\n",
    "    legend_title=\"Локация\",\n",
    "    hovermode=\"x unified\"\n",
    ")\n",
    "\n"
   ]
  },
  {
   "cell_type": "code",
   "execution_count": 12,
   "metadata": {},
   "outputs": [],
   "source": [
    "# Сохранение графика как изображение в формате PNG\n",
    "fig.write_image(\"weather_forecast.png\", format=\"png\", width=800, height=600)\n"
   ]
  }
 ],
 "metadata": {
  "kernelspec": {
   "display_name": "venv",
   "language": "python",
   "name": "python3"
  },
  "language_info": {
   "codemirror_mode": {
    "name": "ipython",
    "version": 3
   },
   "file_extension": ".py",
   "mimetype": "text/x-python",
   "name": "python",
   "nbconvert_exporter": "python",
   "pygments_lexer": "ipython3",
   "version": "3.11.4"
  }
 },
 "nbformat": 4,
 "nbformat_minor": 2
}
